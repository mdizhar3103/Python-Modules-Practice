{
 "cells": [
  {
   "cell_type": "code",
   "execution_count": 1,
   "id": "e8760efb",
   "metadata": {},
   "outputs": [],
   "source": [
    "import calendar"
   ]
  },
  {
   "cell_type": "code",
   "execution_count": 2,
   "id": "b5d7c9a6",
   "metadata": {},
   "outputs": [
    {
     "name": "stdout",
     "output_type": "stream",
     "text": [
      "<calendar.Calendar object at 0x000001E3961B2B20>\n",
      "2020-12-28, 2020-12-29, 2020-12-30, 2020-12-31, 2021-01-01, 2021-01-02, 2021-01-03, 2021-01-04, 2021-01-05, 2021-01-06, 2021-01-07, 2021-01-08, 2021-01-09, 2021-01-10, 2021-01-11, 2021-01-12, 2021-01-13, 2021-01-14, 2021-01-15, 2021-01-16, 2021-01-17, 2021-01-18, 2021-01-19, 2021-01-20, 2021-01-21, 2021-01-22, 2021-01-23, 2021-01-24, 2021-01-25, 2021-01-26, 2021-01-27, 2021-01-28, 2021-01-29, 2021-01-30, 2021-01-31, "
     ]
    }
   ],
   "source": [
    "c = calendar.Calendar()\n",
    "print(c)\n",
    "months_dates = c.itermonthdates(year=2021, month=1)\n",
    "for md in months_dates:\n",
    "    print(md, end=\", \")"
   ]
  },
  {
   "cell_type": "code",
   "execution_count": 3,
   "id": "49cadf7e",
   "metadata": {},
   "outputs": [
    {
     "name": "stdout",
     "output_type": "stream",
     "text": [
      "0, 0, 0, 0, 0, 0, 1, 2, 3, 4, 5, 6, 7, 8, 9, 10, 11, 12, 13, 14, 15, 16, 17, 18, 19, 20, 21, 22, 23, 24, 25, 26, 27, 28, 29, 30, 31, 0, 0, 0, 0, 0, "
     ]
    }
   ],
   "source": [
    "month_days = c.itermonthdays(year=2021, month=8)\n",
    "for mdy in month_days:\n",
    "    print(mdy, end=\", \")"
   ]
  },
  {
   "cell_type": "code",
   "execution_count": 4,
   "id": "7215ee12",
   "metadata": {},
   "outputs": [
    {
     "name": "stdout",
     "output_type": "stream",
     "text": [
      "(0, 0), (0, 1), (0, 2), (0, 3), (0, 4), (0, 5), (1, 6), (2, 0), (3, 1), (4, 2), (5, 3), (6, 4), (7, 5), (8, 6), (9, 0), (10, 1), (11, 2), (12, 3), (13, 4), (14, 5), (15, 6), (16, 0), (17, 1), (18, 2), (19, 3), (20, 4), (21, 5), (22, 6), (23, 0), (24, 1), (25, 2), (26, 3), (27, 4), (28, 5), (29, 6), (30, 0), (31, 1), (0, 2), (0, 3), (0, 4), (0, 5), (0, 6), "
     ]
    }
   ],
   "source": [
    "# iterator2\n",
    "itr2 = c.itermonthdays2(year=2021, month=8)\n",
    "for i in itr2:\n",
    "    print(i, end=\", \")"
   ]
  },
  {
   "cell_type": "code",
   "execution_count": 5,
   "id": "2f38d902",
   "metadata": {},
   "outputs": [
    {
     "name": "stdout",
     "output_type": "stream",
     "text": [
      "(2021, 7, 26), (2021, 7, 27), (2021, 7, 28), (2021, 7, 29), (2021, 7, 30), (2021, 7, 31), (2021, 8, 1), (2021, 8, 2), (2021, 8, 3), (2021, 8, 4), (2021, 8, 5), (2021, 8, 6), (2021, 8, 7), (2021, 8, 8), (2021, 8, 9), (2021, 8, 10), (2021, 8, 11), (2021, 8, 12), (2021, 8, 13), (2021, 8, 14), (2021, 8, 15), (2021, 8, 16), (2021, 8, 17), (2021, 8, 18), (2021, 8, 19), (2021, 8, 20), (2021, 8, 21), (2021, 8, 22), (2021, 8, 23), (2021, 8, 24), (2021, 8, 25), (2021, 8, 26), (2021, 8, 27), (2021, 8, 28), (2021, 8, 29), (2021, 8, 30), (2021, 8, 31), (2021, 9, 1), (2021, 9, 2), (2021, 9, 3), (2021, 9, 4), (2021, 9, 5), "
     ]
    }
   ],
   "source": [
    "# iterator 3\n",
    "itr3 = c.itermonthdays3(year=2021, month=8)\n",
    "for i in itr3:\n",
    "    print(i, end=\", \")"
   ]
  },
  {
   "cell_type": "code",
   "execution_count": 6,
   "id": "62531513",
   "metadata": {},
   "outputs": [
    {
     "name": "stdout",
     "output_type": "stream",
     "text": [
      "(2021, 7, 26, 0), (2021, 7, 27, 1), (2021, 7, 28, 2), (2021, 7, 29, 3), (2021, 7, 30, 4), (2021, 7, 31, 5), (2021, 8, 1, 6), (2021, 8, 2, 0), (2021, 8, 3, 1), (2021, 8, 4, 2), (2021, 8, 5, 3), (2021, 8, 6, 4), (2021, 8, 7, 5), (2021, 8, 8, 6), (2021, 8, 9, 0), (2021, 8, 10, 1), (2021, 8, 11, 2), (2021, 8, 12, 3), (2021, 8, 13, 4), (2021, 8, 14, 5), (2021, 8, 15, 6), (2021, 8, 16, 0), (2021, 8, 17, 1), (2021, 8, 18, 2), (2021, 8, 19, 3), (2021, 8, 20, 4), (2021, 8, 21, 5), (2021, 8, 22, 6), (2021, 8, 23, 0), (2021, 8, 24, 1), (2021, 8, 25, 2), (2021, 8, 26, 3), (2021, 8, 27, 4), (2021, 8, 28, 5), (2021, 8, 29, 6), (2021, 8, 30, 0), (2021, 8, 31, 1), (2021, 9, 1, 2), (2021, 9, 2, 3), (2021, 9, 3, 4), (2021, 9, 4, 5), (2021, 9, 5, 6), "
     ]
    }
   ],
   "source": [
    "# iterator 4\n",
    "itr4 = c.itermonthdays4(year=2021, month=8)\n",
    "for i in itr4:\n",
    "    print(i, end=\", \")"
   ]
  },
  {
   "cell_type": "code",
   "execution_count": 7,
   "id": "410a3a7a",
   "metadata": {},
   "outputs": [
    {
     "name": "stdout",
     "output_type": "stream",
     "text": [
      "0\n"
     ]
    }
   ],
   "source": [
    "# weekday\n",
    "fwd = c.firstweekday\n",
    "print(fwd)"
   ]
  },
  {
   "cell_type": "code",
   "execution_count": 8,
   "id": "f7f32caf",
   "metadata": {},
   "outputs": [
    {
     "name": "stdout",
     "output_type": "stream",
     "text": [
      "0, 1, 2, 3, 4, 5, 6, "
     ]
    }
   ],
   "source": [
    "# iterator weekdays\n",
    "wd = c.iterweekdays()\n",
    "for w in wd:\n",
    "    print(w, end=\", \")"
   ]
  },
  {
   "cell_type": "code",
   "execution_count": 9,
   "id": "8c56f48c",
   "metadata": {},
   "outputs": [
    {
     "name": "stdout",
     "output_type": "stream",
     "text": [
      "[datetime.date(2021, 7, 26), datetime.date(2021, 7, 27), datetime.date(2021, 7, 28), datetime.date(2021, 7, 29), datetime.date(2021, 7, 30), datetime.date(2021, 7, 31), datetime.date(2021, 8, 1)], [datetime.date(2021, 8, 2), datetime.date(2021, 8, 3), datetime.date(2021, 8, 4), datetime.date(2021, 8, 5), datetime.date(2021, 8, 6), datetime.date(2021, 8, 7), datetime.date(2021, 8, 8)], [datetime.date(2021, 8, 9), datetime.date(2021, 8, 10), datetime.date(2021, 8, 11), datetime.date(2021, 8, 12), datetime.date(2021, 8, 13), datetime.date(2021, 8, 14), datetime.date(2021, 8, 15)], [datetime.date(2021, 8, 16), datetime.date(2021, 8, 17), datetime.date(2021, 8, 18), datetime.date(2021, 8, 19), datetime.date(2021, 8, 20), datetime.date(2021, 8, 21), datetime.date(2021, 8, 22)], [datetime.date(2021, 8, 23), datetime.date(2021, 8, 24), datetime.date(2021, 8, 25), datetime.date(2021, 8, 26), datetime.date(2021, 8, 27), datetime.date(2021, 8, 28), datetime.date(2021, 8, 29)], [datetime.date(2021, 8, 30), datetime.date(2021, 8, 31), datetime.date(2021, 9, 1), datetime.date(2021, 9, 2), datetime.date(2021, 9, 3), datetime.date(2021, 9, 4), datetime.date(2021, 9, 5)], "
     ]
    }
   ],
   "source": [
    "# month dates calender\n",
    "mdc = c.monthdatescalendar(year=2021, month=8)\n",
    "for m in mdc:\n",
    "    print(m, end=\", \")"
   ]
  },
  {
   "cell_type": "code",
   "execution_count": 10,
   "id": "aa082c8b",
   "metadata": {},
   "outputs": [
    {
     "name": "stdout",
     "output_type": "stream",
     "text": [
      "[(0, 0), (0, 1), (0, 2), (0, 3), (0, 4), (0, 5), (1, 6)]\n",
      "[(2, 0), (3, 1), (4, 2), (5, 3), (6, 4), (7, 5), (8, 6)]\n",
      "[(9, 0), (10, 1), (11, 2), (12, 3), (13, 4), (14, 5), (15, 6)]\n",
      "[(16, 0), (17, 1), (18, 2), (19, 3), (20, 4), (21, 5), (22, 6)]\n",
      "[(23, 0), (24, 1), (25, 2), (26, 3), (27, 4), (28, 5), (29, 6)]\n",
      "[(30, 0), (31, 1), (0, 2), (0, 3), (0, 4), (0, 5), (0, 6)]\n"
     ]
    }
   ],
   "source": [
    "# month dates calender 2\n",
    "mdc2 = c.monthdays2calendar(year=2021, month=8)\n",
    "for m in mdc2:\n",
    "    print(m, end=\"\\n\")\n"
   ]
  },
  {
   "cell_type": "code",
   "execution_count": 11,
   "id": "42346c01",
   "metadata": {},
   "outputs": [
    {
     "name": "stdout",
     "output_type": "stream",
     "text": [
      "[0, 0, 0, 0, 0, 0, 1], [2, 3, 4, 5, 6, 7, 8], [9, 10, 11, 12, 13, 14, 15], [16, 17, 18, 19, 20, 21, 22], [23, 24, 25, 26, 27, 28, 29], [30, 31, 0, 0, 0, 0, 0], "
     ]
    }
   ],
   "source": [
    "# month dates calender 3\n",
    "mdc3 = c.monthdayscalendar(year=2021, month=8)\n",
    "for m in mdc3:\n",
    "    print(m, end=\", \")"
   ]
  },
  {
   "cell_type": "code",
   "execution_count": 12,
   "id": "fc75a127",
   "metadata": {},
   "outputs": [
    {
     "name": "stdout",
     "output_type": "stream",
     "text": [
      "week length:  7\n",
      "first month no weeks:  5\n",
      "Quarter Months:  3\n",
      "Total Quarters: 4\n"
     ]
    }
   ],
   "source": [
    "# year date calendar\n",
    "yc = c.yeardatescalendar(year=2021)\n",
    "print(\"week length: \",len(yc[0][0][0]))\n",
    "print(\"first month no weeks: \",len(yc[0][0]))\n",
    "print(\"Quarter Months: \",len(yc[0]))\n",
    "print(\"Total Quarters:\", len(yc))\n",
    "# from pprint import pprint as pp\n",
    "# pp(yc[0])\n",
    "# for y in yc:\n",
    "#     print(y)"
   ]
  },
  {
   "cell_type": "code",
   "execution_count": 13,
   "id": "6909636a",
   "metadata": {},
   "outputs": [
    {
     "name": "stdout",
     "output_type": "stream",
     "text": [
      "[[[(0, 0), (0, 1), (0, 2), (0, 3), (1, 4), (2, 5), (3, 6)], [(4, 0), (5, 1), (6, 2), (7, 3), (8, 4), (9, 5), (10, 6)], [(11, 0), (12, 1), (13, 2), (14, 3), (15, 4), (16, 5), (17, 6)], [(18, 0), (19, 1), (20, 2), (21, 3), (22, 4), (23, 5), (24, 6)], [(25, 0), (26, 1), (27, 2), (28, 3), (29, 4), (30, 5), (31, 6)]], [[(1, 0), (2, 1), (3, 2), (4, 3), (5, 4), (6, 5), (7, 6)], [(8, 0), (9, 1), (10, 2), (11, 3), (12, 4), (13, 5), (14, 6)], [(15, 0), (16, 1), (17, 2), (18, 3), (19, 4), (20, 5), (21, 6)], [(22, 0), (23, 1), (24, 2), (25, 3), (26, 4), (27, 5), (28, 6)]], [[(1, 0), (2, 1), (3, 2), (4, 3), (5, 4), (6, 5), (7, 6)], [(8, 0), (9, 1), (10, 2), (11, 3), (12, 4), (13, 5), (14, 6)], [(15, 0), (16, 1), (17, 2), (18, 3), (19, 4), (20, 5), (21, 6)], [(22, 0), (23, 1), (24, 2), (25, 3), (26, 4), (27, 5), (28, 6)], [(29, 0), (30, 1), (31, 2), (0, 3), (0, 4), (0, 5), (0, 6)]]], [[[(0, 0), (0, 1), (0, 2), (1, 3), (2, 4), (3, 5), (4, 6)], [(5, 0), (6, 1), (7, 2), (8, 3), (9, 4), (10, 5), (11, 6)], [(12, 0), (13, 1), (14, 2), (15, 3), (16, 4), (17, 5), (18, 6)], [(19, 0), (20, 1), (21, 2), (22, 3), (23, 4), (24, 5), (25, 6)], [(26, 0), (27, 1), (28, 2), (29, 3), (30, 4), (0, 5), (0, 6)]], [[(0, 0), (0, 1), (0, 2), (0, 3), (0, 4), (1, 5), (2, 6)], [(3, 0), (4, 1), (5, 2), (6, 3), (7, 4), (8, 5), (9, 6)], [(10, 0), (11, 1), (12, 2), (13, 3), (14, 4), (15, 5), (16, 6)], [(17, 0), (18, 1), (19, 2), (20, 3), (21, 4), (22, 5), (23, 6)], [(24, 0), (25, 1), (26, 2), (27, 3), (28, 4), (29, 5), (30, 6)], [(31, 0), (0, 1), (0, 2), (0, 3), (0, 4), (0, 5), (0, 6)]], [[(0, 0), (1, 1), (2, 2), (3, 3), (4, 4), (5, 5), (6, 6)], [(7, 0), (8, 1), (9, 2), (10, 3), (11, 4), (12, 5), (13, 6)], [(14, 0), (15, 1), (16, 2), (17, 3), (18, 4), (19, 5), (20, 6)], [(21, 0), (22, 1), (23, 2), (24, 3), (25, 4), (26, 5), (27, 6)], [(28, 0), (29, 1), (30, 2), (0, 3), (0, 4), (0, 5), (0, 6)]]], [[[(0, 0), (0, 1), (0, 2), (1, 3), (2, 4), (3, 5), (4, 6)], [(5, 0), (6, 1), (7, 2), (8, 3), (9, 4), (10, 5), (11, 6)], [(12, 0), (13, 1), (14, 2), (15, 3), (16, 4), (17, 5), (18, 6)], [(19, 0), (20, 1), (21, 2), (22, 3), (23, 4), (24, 5), (25, 6)], [(26, 0), (27, 1), (28, 2), (29, 3), (30, 4), (31, 5), (0, 6)]], [[(0, 0), (0, 1), (0, 2), (0, 3), (0, 4), (0, 5), (1, 6)], [(2, 0), (3, 1), (4, 2), (5, 3), (6, 4), (7, 5), (8, 6)], [(9, 0), (10, 1), (11, 2), (12, 3), (13, 4), (14, 5), (15, 6)], [(16, 0), (17, 1), (18, 2), (19, 3), (20, 4), (21, 5), (22, 6)], [(23, 0), (24, 1), (25, 2), (26, 3), (27, 4), (28, 5), (29, 6)], [(30, 0), (31, 1), (0, 2), (0, 3), (0, 4), (0, 5), (0, 6)]], [[(0, 0), (0, 1), (1, 2), (2, 3), (3, 4), (4, 5), (5, 6)], [(6, 0), (7, 1), (8, 2), (9, 3), (10, 4), (11, 5), (12, 6)], [(13, 0), (14, 1), (15, 2), (16, 3), (17, 4), (18, 5), (19, 6)], [(20, 0), (21, 1), (22, 2), (23, 3), (24, 4), (25, 5), (26, 6)], [(27, 0), (28, 1), (29, 2), (30, 3), (0, 4), (0, 5), (0, 6)]]], [[[(0, 0), (0, 1), (0, 2), (0, 3), (1, 4), (2, 5), (3, 6)], [(4, 0), (5, 1), (6, 2), (7, 3), (8, 4), (9, 5), (10, 6)], [(11, 0), (12, 1), (13, 2), (14, 3), (15, 4), (16, 5), (17, 6)], [(18, 0), (19, 1), (20, 2), (21, 3), (22, 4), (23, 5), (24, 6)], [(25, 0), (26, 1), (27, 2), (28, 3), (29, 4), (30, 5), (31, 6)]], [[(1, 0), (2, 1), (3, 2), (4, 3), (5, 4), (6, 5), (7, 6)], [(8, 0), (9, 1), (10, 2), (11, 3), (12, 4), (13, 5), (14, 6)], [(15, 0), (16, 1), (17, 2), (18, 3), (19, 4), (20, 5), (21, 6)], [(22, 0), (23, 1), (24, 2), (25, 3), (26, 4), (27, 5), (28, 6)], [(29, 0), (30, 1), (0, 2), (0, 3), (0, 4), (0, 5), (0, 6)]], [[(0, 0), (0, 1), (1, 2), (2, 3), (3, 4), (4, 5), (5, 6)], [(6, 0), (7, 1), (8, 2), (9, 3), (10, 4), (11, 5), (12, 6)], [(13, 0), (14, 1), (15, 2), (16, 3), (17, 4), (18, 5), (19, 6)], [(20, 0), (21, 1), (22, 2), (23, 3), (24, 4), (25, 5), (26, 6)], [(27, 0), (28, 1), (29, 2), (30, 3), (31, 4), (0, 5), (0, 6)]]], "
     ]
    }
   ],
   "source": [
    "# year date calendar 2\n",
    "yc2 = c.yeardays2calendar(year=2021)\n",
    "for y in yc2:\n",
    "    print(y, end=\", \")"
   ]
  },
  {
   "cell_type": "code",
   "execution_count": 14,
   "id": "d1d6d57a",
   "metadata": {},
   "outputs": [
    {
     "name": "stdout",
     "output_type": "stream",
     "text": [
      "[[[0, 0, 0, 0, 1, 2, 3], [4, 5, 6, 7, 8, 9, 10], [11, 12, 13, 14, 15, 16, 17], [18, 19, 20, 21, 22, 23, 24], [25, 26, 27, 28, 29, 30, 31]], [[1, 2, 3, 4, 5, 6, 7], [8, 9, 10, 11, 12, 13, 14], [15, 16, 17, 18, 19, 20, 21], [22, 23, 24, 25, 26, 27, 28]], [[1, 2, 3, 4, 5, 6, 7], [8, 9, 10, 11, 12, 13, 14], [15, 16, 17, 18, 19, 20, 21], [22, 23, 24, 25, 26, 27, 28], [29, 30, 31, 0, 0, 0, 0]]], [[[0, 0, 0, 1, 2, 3, 4], [5, 6, 7, 8, 9, 10, 11], [12, 13, 14, 15, 16, 17, 18], [19, 20, 21, 22, 23, 24, 25], [26, 27, 28, 29, 30, 0, 0]], [[0, 0, 0, 0, 0, 1, 2], [3, 4, 5, 6, 7, 8, 9], [10, 11, 12, 13, 14, 15, 16], [17, 18, 19, 20, 21, 22, 23], [24, 25, 26, 27, 28, 29, 30], [31, 0, 0, 0, 0, 0, 0]], [[0, 1, 2, 3, 4, 5, 6], [7, 8, 9, 10, 11, 12, 13], [14, 15, 16, 17, 18, 19, 20], [21, 22, 23, 24, 25, 26, 27], [28, 29, 30, 0, 0, 0, 0]]], [[[0, 0, 0, 1, 2, 3, 4], [5, 6, 7, 8, 9, 10, 11], [12, 13, 14, 15, 16, 17, 18], [19, 20, 21, 22, 23, 24, 25], [26, 27, 28, 29, 30, 31, 0]], [[0, 0, 0, 0, 0, 0, 1], [2, 3, 4, 5, 6, 7, 8], [9, 10, 11, 12, 13, 14, 15], [16, 17, 18, 19, 20, 21, 22], [23, 24, 25, 26, 27, 28, 29], [30, 31, 0, 0, 0, 0, 0]], [[0, 0, 1, 2, 3, 4, 5], [6, 7, 8, 9, 10, 11, 12], [13, 14, 15, 16, 17, 18, 19], [20, 21, 22, 23, 24, 25, 26], [27, 28, 29, 30, 0, 0, 0]]], [[[0, 0, 0, 0, 1, 2, 3], [4, 5, 6, 7, 8, 9, 10], [11, 12, 13, 14, 15, 16, 17], [18, 19, 20, 21, 22, 23, 24], [25, 26, 27, 28, 29, 30, 31]], [[1, 2, 3, 4, 5, 6, 7], [8, 9, 10, 11, 12, 13, 14], [15, 16, 17, 18, 19, 20, 21], [22, 23, 24, 25, 26, 27, 28], [29, 30, 0, 0, 0, 0, 0]], [[0, 0, 1, 2, 3, 4, 5], [6, 7, 8, 9, 10, 11, 12], [13, 14, 15, 16, 17, 18, 19], [20, 21, 22, 23, 24, 25, 26], [27, 28, 29, 30, 31, 0, 0]]], "
     ]
    }
   ],
   "source": [
    "# year date calendar 3\n",
    "yc3 = c.yeardayscalendar(year=2021)\n",
    "for y in yc3:\n",
    "    print(y, end=\", \")"
   ]
  },
  {
   "cell_type": "code",
   "execution_count": 15,
   "id": "1edb4884",
   "metadata": {},
   "outputs": [
    {
     "name": "stdout",
     "output_type": "stream",
     "text": [
      "<calendar.TextCalendar object at 0x000001E39620EA00>\n"
     ]
    }
   ],
   "source": [
    "# working with Text Calendar\n",
    "\n",
    "txt_cal = calendar.TextCalendar()\n",
    "print(txt_cal)"
   ]
  },
  {
   "cell_type": "code",
   "execution_count": 16,
   "id": "30dfd923",
   "metadata": {},
   "outputs": [
    {
     "name": "stdout",
     "output_type": "stream",
     "text": [
      "[[(0, 0), (0, 1), (0, 2), (0, 3), (0, 4), (0, 5), (1, 6)], [(2, 0), (3, 1), (4, 2), (5, 3), (6, 4), (7, 5), (8, 6)], [(9, 0), (10, 1), (11, 2), (12, 3), (13, 4), (14, 5), (15, 6)], [(16, 0), (17, 1), (18, 2), (19, 3), (20, 4), (21, 5), (22, 6)], [(23, 0), (24, 1), (25, 2), (26, 3), (27, 4), (28, 5), (29, 6)], [(30, 0), (31, 1), (0, 2), (0, 3), (0, 4), (0, 5), (0, 6)]] \n",
      "\n",
      "\n",
      "  9  10  11  12  13  14  15None\n"
     ]
    }
   ],
   "source": [
    "# per week calendar\n",
    "temp = c.monthdays2calendar(year=2021, month=8)  #(day, weekday)\n",
    "\n",
    "print(temp, \"\\n\\n\")\n",
    "pw = txt_cal.prweek(theweek=temp[2], width=3)\n",
    "print(pw)"
   ]
  },
  {
   "cell_type": "code",
   "execution_count": 17,
   "id": "290ed47c",
   "metadata": {},
   "outputs": [
    {
     "name": "stdout",
     "output_type": "stream",
     "text": [
      "                          1\n",
      "  2   3   4   5   6   7   8\n",
      "  9  10  11  12  13  14  15\n",
      " 16  17  18  19  20  21  22\n",
      " 23  24  25  26  27  28  29\n",
      " 30  31                    \n"
     ]
    }
   ],
   "source": [
    "# per week calendar\n",
    "temp = c.monthdays2calendar(year=2021, month=8)  #(day, weekday)\n",
    "\n",
    "for t in temp:\n",
    "    txt_cal.prweek(theweek=t, width=3)\n",
    "    print()"
   ]
  },
  {
   "cell_type": "code",
   "execution_count": 18,
   "id": "84b1d482",
   "metadata": {},
   "outputs": [
    {
     "name": "stdout",
     "output_type": "stream",
     "text": [
      "    August 2021\n",
      "Mo Tu We Th Fr Sa Su\n",
      "                   1\n",
      " 2  3  4  5  6  7  8\n",
      " 9 10 11 12 13 14 15\n",
      "16 17 18 19 20 21 22\n",
      "23 24 25 26 27 28 29\n",
      "30 31\n"
     ]
    }
   ],
   "source": [
    "txt_cal.prmonth(theyear=2021, themonth=8)"
   ]
  },
  {
   "cell_type": "code",
   "execution_count": 19,
   "id": "31eea6c7",
   "metadata": {},
   "outputs": [
    {
     "name": "stdout",
     "output_type": "stream",
     "text": [
      "                                  2021\n",
      "\n",
      "      January                   February                   March\n",
      "Mo Tu We Th Fr Sa Su      Mo Tu We Th Fr Sa Su      Mo Tu We Th Fr Sa Su\n",
      "             1  2  3       1  2  3  4  5  6  7       1  2  3  4  5  6  7\n",
      " 4  5  6  7  8  9 10       8  9 10 11 12 13 14       8  9 10 11 12 13 14\n",
      "11 12 13 14 15 16 17      15 16 17 18 19 20 21      15 16 17 18 19 20 21\n",
      "18 19 20 21 22 23 24      22 23 24 25 26 27 28      22 23 24 25 26 27 28\n",
      "25 26 27 28 29 30 31                                29 30 31\n",
      "\n",
      "       April                      May                       June\n",
      "Mo Tu We Th Fr Sa Su      Mo Tu We Th Fr Sa Su      Mo Tu We Th Fr Sa Su\n",
      "          1  2  3  4                      1  2          1  2  3  4  5  6\n",
      " 5  6  7  8  9 10 11       3  4  5  6  7  8  9       7  8  9 10 11 12 13\n",
      "12 13 14 15 16 17 18      10 11 12 13 14 15 16      14 15 16 17 18 19 20\n",
      "19 20 21 22 23 24 25      17 18 19 20 21 22 23      21 22 23 24 25 26 27\n",
      "26 27 28 29 30            24 25 26 27 28 29 30      28 29 30\n",
      "                          31\n",
      "\n",
      "        July                     August                  September\n",
      "Mo Tu We Th Fr Sa Su      Mo Tu We Th Fr Sa Su      Mo Tu We Th Fr Sa Su\n",
      "          1  2  3  4                         1             1  2  3  4  5\n",
      " 5  6  7  8  9 10 11       2  3  4  5  6  7  8       6  7  8  9 10 11 12\n",
      "12 13 14 15 16 17 18       9 10 11 12 13 14 15      13 14 15 16 17 18 19\n",
      "19 20 21 22 23 24 25      16 17 18 19 20 21 22      20 21 22 23 24 25 26\n",
      "26 27 28 29 30 31         23 24 25 26 27 28 29      27 28 29 30\n",
      "                          30 31\n",
      "\n",
      "      October                   November                  December\n",
      "Mo Tu We Th Fr Sa Su      Mo Tu We Th Fr Sa Su      Mo Tu We Th Fr Sa Su\n",
      "             1  2  3       1  2  3  4  5  6  7             1  2  3  4  5\n",
      " 4  5  6  7  8  9 10       8  9 10 11 12 13 14       6  7  8  9 10 11 12\n",
      "11 12 13 14 15 16 17      15 16 17 18 19 20 21      13 14 15 16 17 18 19\n",
      "18 19 20 21 22 23 24      22 23 24 25 26 27 28      20 21 22 23 24 25 26\n",
      "25 26 27 28 29 30 31      29 30                     27 28 29 30 31\n"
     ]
    }
   ],
   "source": [
    "txt_cal.pryear(theyear=2021)"
   ]
  },
  {
   "cell_type": "code",
   "execution_count": 20,
   "id": "02c4738a",
   "metadata": {},
   "outputs": [],
   "source": [
    "# https://github.com/python/cpython/blob/3.9/Lib/calendar.py"
   ]
  },
  {
   "cell_type": "code",
   "execution_count": 21,
   "id": "721e57fc",
   "metadata": {},
   "outputs": [],
   "source": [
    "import calendar as cal"
   ]
  },
  {
   "cell_type": "code",
   "execution_count": 22,
   "id": "4ed0311e",
   "metadata": {},
   "outputs": [
    {
     "name": "stdout",
     "output_type": "stream",
     "text": [
      "                                  2021\n",
      "\n",
      "      January                   February                   March\n",
      "Mo Tu We Th Fr Sa Su      Mo Tu We Th Fr Sa Su      Mo Tu We Th Fr Sa Su\n",
      "             1  2  3       1  2  3  4  5  6  7       1  2  3  4  5  6  7\n",
      " 4  5  6  7  8  9 10       8  9 10 11 12 13 14       8  9 10 11 12 13 14\n",
      "11 12 13 14 15 16 17      15 16 17 18 19 20 21      15 16 17 18 19 20 21\n",
      "18 19 20 21 22 23 24      22 23 24 25 26 27 28      22 23 24 25 26 27 28\n",
      "25 26 27 28 29 30 31                                29 30 31\n",
      "\n",
      "       April                      May                       June\n",
      "Mo Tu We Th Fr Sa Su      Mo Tu We Th Fr Sa Su      Mo Tu We Th Fr Sa Su\n",
      "          1  2  3  4                      1  2          1  2  3  4  5  6\n",
      " 5  6  7  8  9 10 11       3  4  5  6  7  8  9       7  8  9 10 11 12 13\n",
      "12 13 14 15 16 17 18      10 11 12 13 14 15 16      14 15 16 17 18 19 20\n",
      "19 20 21 22 23 24 25      17 18 19 20 21 22 23      21 22 23 24 25 26 27\n",
      "26 27 28 29 30            24 25 26 27 28 29 30      28 29 30\n",
      "                          31\n",
      "\n",
      "        July                     August                  September\n",
      "Mo Tu We Th Fr Sa Su      Mo Tu We Th Fr Sa Su      Mo Tu We Th Fr Sa Su\n",
      "          1  2  3  4                         1             1  2  3  4  5\n",
      " 5  6  7  8  9 10 11       2  3  4  5  6  7  8       6  7  8  9 10 11 12\n",
      "12 13 14 15 16 17 18       9 10 11 12 13 14 15      13 14 15 16 17 18 19\n",
      "19 20 21 22 23 24 25      16 17 18 19 20 21 22      20 21 22 23 24 25 26\n",
      "26 27 28 29 30 31         23 24 25 26 27 28 29      27 28 29 30\n",
      "                          30 31\n",
      "\n",
      "      October                   November                  December\n",
      "Mo Tu We Th Fr Sa Su      Mo Tu We Th Fr Sa Su      Mo Tu We Th Fr Sa Su\n",
      "             1  2  3       1  2  3  4  5  6  7             1  2  3  4  5\n",
      " 4  5  6  7  8  9 10       8  9 10 11 12 13 14       6  7  8  9 10 11 12\n",
      "11 12 13 14 15 16 17      15 16 17 18 19 20 21      13 14 15 16 17 18 19\n",
      "18 19 20 21 22 23 24      22 23 24 25 26 27 28      20 21 22 23 24 25 26\n",
      "25 26 27 28 29 30 31      29 30                     27 28 29 30 31\n",
      "\n"
     ]
    }
   ],
   "source": [
    "print(cal.calendar(2021))"
   ]
  },
  {
   "cell_type": "code",
   "execution_count": 23,
   "id": "4ef5c05c",
   "metadata": {},
   "outputs": [],
   "source": [
    "dt_module = cal.datetime"
   ]
  },
  {
   "cell_type": "code",
   "execution_count": 24,
   "id": "88288d2f",
   "metadata": {},
   "outputs": [
    {
     "name": "stdout",
     "output_type": "stream",
     "text": [
      "2021-09-05\n"
     ]
    }
   ],
   "source": [
    "print(dt_module.date(2021, 9, 5))"
   ]
  },
  {
   "cell_type": "code",
   "execution_count": 25,
   "id": "c01920bc",
   "metadata": {},
   "outputs": [
    {
     "name": "stdout",
     "output_type": "stream",
     "text": [
      "<generator object <genexpr> at 0x000001E3962049E0>\n"
     ]
    }
   ],
   "source": [
    "# day_abbr -> return the array of abbreviated days of the week in the current locale.\n",
    "\n",
    "print(cal.day_abbr[i] for i in range(7))"
   ]
  },
  {
   "cell_type": "code",
   "execution_count": 26,
   "id": "1194c057",
   "metadata": {},
   "outputs": [],
   "source": [
    "# class _localized_day:\n",
    "\n",
    "#     # January 1, 2001, was a Monday.\n",
    "#     _days = [datetime.date(2001, 1, i+1).strftime for i in range(7)]\n",
    "\n",
    "#     def __init__(self, format):\n",
    "#         self.format = format\n",
    "\n",
    "#     def __getitem__(self, i):\n",
    "#         funcs = self._days[i]\n",
    "#         if isinstance(i, slice):\n",
    "#             return [f(self.format) for f in funcs]\n",
    "#         else:\n",
    "#             return funcs(self.format)\n",
    "\n",
    "#     def __len__(self):\n",
    "#         return 7\n",
    "\n",
    "\n",
    "# # Full and abbreviated names of weekdays\n",
    "# day_name = _localized_day('%A')\n",
    "# day_abbr = _localized_day('%a')\n",
    "\n",
    "# # Full and abbreviated names of months (1-based arrays!!!)\n",
    "# month_name = _localized_month('%B')\n",
    "# month_abbr = _localized_month('%b')"
   ]
  },
  {
   "cell_type": "code",
   "execution_count": 27,
   "id": "1dab79e3",
   "metadata": {},
   "outputs": [
    {
     "name": "stdout",
     "output_type": "stream",
     "text": [
      "['Mon', 'Tue', 'Wed', 'Thu', 'Fri', 'Sat', 'Sun']\n"
     ]
    }
   ],
   "source": [
    "print([cal.day_abbr[i] for i in range(7)])"
   ]
  },
  {
   "cell_type": "code",
   "execution_count": 28,
   "id": "14cd5365",
   "metadata": {},
   "outputs": [
    {
     "name": "stdout",
     "output_type": "stream",
     "text": [
      "['Monday', 'Tuesday', 'Wednesday', 'Thursday', 'Friday', 'Saturday', 'Sunday']\n"
     ]
    }
   ],
   "source": [
    "# get full day names\n",
    "print([cal.day_name[i] for i in range(7)])"
   ]
  },
  {
   "cell_type": "code",
   "execution_count": 29,
   "id": "81c1b45a",
   "metadata": {},
   "outputs": [
    {
     "name": "stdout",
     "output_type": "stream",
     "text": [
      "['Jan', 'Feb', 'Mar', 'Apr', 'May', 'Jun', 'Jul', 'Aug', 'Sep', 'Oct', 'Nov', 'Dec']\n"
     ]
    }
   ],
   "source": [
    "print([cal.month_abbr[i] for i in range(1,13)])"
   ]
  },
  {
   "cell_type": "code",
   "execution_count": 30,
   "id": "2eaf6048",
   "metadata": {},
   "outputs": [
    {
     "name": "stdout",
     "output_type": "stream",
     "text": [
      "['January', 'February', 'March', 'April', 'May', 'June', 'July', 'August', 'September', 'October', 'November', 'December']\n"
     ]
    }
   ],
   "source": [
    "print([cal.month_name[i] for i in range(1,13)])"
   ]
  },
  {
   "cell_type": "code",
   "execution_count": 31,
   "id": "af84effb",
   "metadata": {},
   "outputs": [
    {
     "name": "stdout",
     "output_type": "stream",
     "text": [
      "<calendar.different_locale object at 0x000001E3961AAF10>\n"
     ]
    }
   ],
   "source": [
    "# Source Code [Git Hub]\n",
    "\n",
    "# class different_locale:\n",
    "#     def __init__(self, locale):\n",
    "#         self.locale = locale\n",
    "\n",
    "#     def __enter__(self):\n",
    "#         self.oldlocale = _locale.getlocale(_locale.LC_TIME)\n",
    "#         _locale.setlocale(_locale.LC_TIME, self.locale)\n",
    "\n",
    "#     def __exit__(self, *args):\n",
    "#         _locale.setlocale(_locale.LC_TIME, self.oldlocale)\n",
    "\n",
    "\n",
    "print(cal.different_locale(\"Asia/Calcutta\"))"
   ]
  },
  {
   "cell_type": "code",
   "execution_count": 32,
   "id": "664845b4",
   "metadata": {},
   "outputs": [],
   "source": [
    "# class LocaleTextCalendar(TextCalendar):\n",
    "#     \"\"\"\n",
    "#     This class can be passed a locale name in the constructor and will return\n",
    "#     month and weekday names in the specified locale. If this locale includes\n",
    "#     an encoding all strings containing month and weekday names will be returned\n",
    "#     as unicode.\n",
    "#     \"\"\"\n",
    "\n",
    "#     def __init__(self, firstweekday=0, locale=None):\n",
    "#         TextCalendar.__init__(self, firstweekday)\n",
    "#         if locale is None:\n",
    "#             locale = _locale.getdefaultlocale()\n",
    "#         self.locale = locale\n",
    "\n",
    "#     def formatweekday(self, day, width):\n",
    "#         with different_locale(self.locale):\n",
    "#             if width >= 9:\n",
    "#                 names = day_name\n",
    "#             else:\n",
    "#                 names = day_abbr\n",
    "#             name = names[day]\n",
    "#             return name[:width].center(width)\n",
    "\n",
    "#     def formatmonthname(self, theyear, themonth, width, withyear=True):\n",
    "#         with different_locale(self.locale):\n",
    "#             s = month_name[themonth]\n",
    "#             if withyear:\n",
    "#                 s = \"%s %r\" % (s, theyear)\n",
    "#             return s.center(width)"
   ]
  },
  {
   "cell_type": "code",
   "execution_count": 33,
   "id": "693c045a",
   "metadata": {},
   "outputs": [
    {
     "data": {
      "text/plain": [
       "1970"
      ]
     },
     "execution_count": 33,
     "metadata": {},
     "output_type": "execute_result"
    }
   ],
   "source": [
    "cal.EPOCH"
   ]
  },
  {
   "cell_type": "code",
   "execution_count": 34,
   "id": "02a60c90",
   "metadata": {},
   "outputs": [
    {
     "data": {
      "text/plain": [
       "ValueError"
      ]
     },
     "execution_count": 34,
     "metadata": {},
     "output_type": "execute_result"
    }
   ],
   "source": [
    "cal.error"
   ]
  },
  {
   "cell_type": "code",
   "execution_count": 35,
   "id": "1a4d3c49",
   "metadata": {},
   "outputs": [
    {
     "data": {
      "text/plain": [
       "2"
      ]
     },
     "execution_count": 35,
     "metadata": {},
     "output_type": "execute_result"
    }
   ],
   "source": [
    "cal.February"
   ]
  },
  {
   "cell_type": "code",
   "execution_count": 36,
   "id": "818a3a11",
   "metadata": {},
   "outputs": [
    {
     "name": "stdout",
     "output_type": "stream",
     "text": [
      "0\n",
      "2\n"
     ]
    }
   ],
   "source": [
    "# firstweekday property constructor in calendar class\n",
    "\n",
    "print(cal.firstweekday())\n",
    "\n",
    "# change the weekday\n",
    "cal.setfirstweekday(2)\n",
    "print(cal.firstweekday())"
   ]
  },
  {
   "cell_type": "code",
   "execution_count": 37,
   "id": "25046449",
   "metadata": {},
   "outputs": [
    {
     "data": {
      "text/plain": [
       "True"
      ]
     },
     "execution_count": 37,
     "metadata": {},
     "output_type": "execute_result"
    }
   ],
   "source": [
    "# to check year is leap year or not\n",
    "\n",
    "# def isleap(year):\n",
    "#     \"\"\"Return True for leap years, False for non-leap years.\"\"\"\n",
    "#     return year % 4 == 0 and (year % 100 != 0 or year % 400 == 0)\n",
    "\n",
    "cal.isleap(2020)"
   ]
  },
  {
   "cell_type": "code",
   "execution_count": 38,
   "id": "060a4f2c",
   "metadata": {},
   "outputs": [
    {
     "name": "stdout",
     "output_type": "stream",
     "text": [
      "         a                         b                         c          \n"
     ]
    }
   ],
   "source": [
    "# Spacing of month columns for multi-column year calendar\n",
    "# _colwidth = 7*3 - 1         # Amount printed by prweek()\n",
    "# _spacing = 6                # Number of spaces between columns\n",
    "\n",
    "\n",
    "# def format(cols, colwidth=_colwidth, spacing=_spacing):\n",
    "#     \"\"\"Prints multi-column formatting for year calendars\"\"\"\n",
    "#     print(formatstring(cols, colwidth, spacing))\n",
    "\n",
    "\n",
    "# def formatstring(cols, colwidth=_colwidth, spacing=_spacing):\n",
    "#     \"\"\"Returns a string formatted from n strings, centered within n columns.\"\"\"\n",
    "#     spacing *= ' '\n",
    "#     return spacing.join(c.center(colwidth) for c in cols)\n",
    "\n",
    "cal.format(['a', 'b', 'c'])"
   ]
  },
  {
   "cell_type": "code",
   "execution_count": 39,
   "id": "11417f80",
   "metadata": {},
   "outputs": [
    {
     "name": "stdout",
     "output_type": "stream",
     "text": [
      "        Mohd                     Izhar        \n"
     ]
    }
   ],
   "source": [
    "print(cal.formatstring([\"Mohd\", \"Izhar\"]))"
   ]
  },
  {
   "cell_type": "code",
   "execution_count": 40,
   "id": "d9a20523",
   "metadata": {},
   "outputs": [
    {
     "data": {
      "text/plain": [
       "calendar.IllegalMonthError"
      ]
     },
     "execution_count": 40,
     "metadata": {},
     "output_type": "execute_result"
    }
   ],
   "source": [
    "# # Exception raised for bad input (with string parameter for details)\n",
    "# error = ValueError\n",
    "\n",
    "# # Exceptions raised for bad input\n",
    "# class IllegalMonthError(ValueError):\n",
    "#     def __init__(self, month):\n",
    "#         self.month = month\n",
    "#     def __str__(self):\n",
    "#         return \"bad month number %r; must be 1-12\" % self.month\n",
    "\n",
    "\n",
    "# class IllegalWeekdayError(ValueError):\n",
    "#     def __init__(self, weekday):\n",
    "#         self.weekday = weekday\n",
    "#     def __str__(self):\n",
    "#         return \"bad weekday number %r; must be 0 (Monday) to 6 (Sunday)\" % self.weekday\n",
    "\n",
    "\n",
    "cal.IllegalMonthError"
   ]
  },
  {
   "cell_type": "code",
   "execution_count": 41,
   "id": "75fa698b",
   "metadata": {},
   "outputs": [
    {
     "name": "stdout",
     "output_type": "stream",
     "text": [
      "13\n"
     ]
    },
    {
     "data": {
      "text/plain": [
       "<function calendar.leapdays(y1, y2)>"
      ]
     },
     "execution_count": 41,
     "metadata": {},
     "output_type": "execute_result"
    }
   ],
   "source": [
    "# def leapdays(y1, y2):\n",
    "#     \"\"\"Return number of leap years in range [y1, y2).\n",
    "#        Assume y1 <= y2.\"\"\"\n",
    "#     y1 -= 1\n",
    "#     y2 -= 1\n",
    "#     return (y2//4 - y1//4) - (y2//100 - y1//100) + (y2//400 - y1//400)\n",
    "\n",
    "print(cal.leapdays(1970, 2021))\n",
    "cal.leapdays"
   ]
  },
  {
   "cell_type": "code",
   "execution_count": 42,
   "id": "62f2ce16",
   "metadata": {},
   "outputs": [
    {
     "data": {
      "text/plain": [
       "itertools.repeat"
      ]
     },
     "execution_count": 42,
     "metadata": {},
     "output_type": "execute_result"
    }
   ],
   "source": [
    "cal.repeat"
   ]
  },
  {
   "cell_type": "code",
   "execution_count": 43,
   "id": "8dcc0fce",
   "metadata": {},
   "outputs": [
    {
     "data": {
      "text/plain": [
       "[0, 31, 28, 31, 30, 31, 30, 31, 31, 30, 31, 30, 31]"
      ]
     },
     "execution_count": 43,
     "metadata": {},
     "output_type": "execute_result"
    }
   ],
   "source": [
    "# list of days in month\n",
    "\n",
    "cal.mdays"
   ]
  },
  {
   "cell_type": "code",
   "execution_count": 44,
   "id": "dfbdcd8c",
   "metadata": {},
   "outputs": [
    {
     "name": "stdout",
     "output_type": "stream",
     "text": [
      "1630834215\n",
      "18875 days, 9:30:15\n",
      "years:  51\n"
     ]
    }
   ],
   "source": [
    "# def timegm(tuple):\n",
    "#     \"\"\"Unrelated but handy function to calculate Unix timestamp from GMT.\"\"\"\n",
    "#     year, month, day, hour, minute, second = tuple[:6]\n",
    "#     days = datetime.date(year, month, 1).toordinal() - _EPOCH_ORD + day - 1\n",
    "#     hours = days*24 + hour\n",
    "#     minutes = hours*60 + minute\n",
    "#     seconds = minutes*60 + second\n",
    "#     return seconds\n",
    "\n",
    "\n",
    "# returns number of seconds\n",
    "total_seconds = cal.timegm((2021, 9, 5, 9, 30, 15))\n",
    "print(total_seconds)\n",
    "\n",
    "timedelta = cal.datetime.timedelta(seconds=total_seconds)\n",
    "print(timedelta)\n",
    "print(\"years: \",timedelta.days // 365)"
   ]
  },
  {
   "cell_type": "code",
   "execution_count": 45,
   "id": "7699a82d",
   "metadata": {},
   "outputs": [
    {
     "name": "stdout",
     "output_type": "stream",
     "text": [
      "<table border=\"0\" cellpadding=\"0\" cellspacing=\"0\" class=\"month\">\n",
      "<tr><th colspan=\"7\" class=\"month\">September 2021</th></tr>\n",
      "<tr><th class=\"mon\">Mon</th><th class=\"tue\">Tue</th><th class=\"wed\">Wed</th><th class=\"thu\">Thu</th><th class=\"fri\">Fri</th><th class=\"sat\">Sat</th><th class=\"sun\">Sun</th></tr>\n",
      "<tr><td class=\"noday\">&nbsp;</td><td class=\"noday\">&nbsp;</td><td class=\"wed\">1</td><td class=\"thu\">2</td><td class=\"fri\">3</td><td class=\"sat\">4</td><td class=\"sun\">5</td></tr>\n",
      "<tr><td class=\"mon\">6</td><td class=\"tue\">7</td><td class=\"wed\">8</td><td class=\"thu\">9</td><td class=\"fri\">10</td><td class=\"sat\">11</td><td class=\"sun\">12</td></tr>\n",
      "<tr><td class=\"mon\">13</td><td class=\"tue\">14</td><td class=\"wed\">15</td><td class=\"thu\">16</td><td class=\"fri\">17</td><td class=\"sat\">18</td><td class=\"sun\">19</td></tr>\n",
      "<tr><td class=\"mon\">20</td><td class=\"tue\">21</td><td class=\"wed\">22</td><td class=\"thu\">23</td><td class=\"fri\">24</td><td class=\"sat\">25</td><td class=\"sun\">26</td></tr>\n",
      "<tr><td class=\"mon\">27</td><td class=\"tue\">28</td><td class=\"wed\">29</td><td class=\"thu\">30</td><td class=\"noday\">&nbsp;</td><td class=\"noday\">&nbsp;</td><td class=\"noday\">&nbsp;</td></tr>\n",
      "</table>\n",
      "\n"
     ]
    }
   ],
   "source": [
    "html_cal = cal.HTMLCalendar()\n",
    "print(html_cal.formatmonth(2021, 9))\n",
    "\n",
    "# https://htmlcodeeditor.com/"
   ]
  },
  {
   "cell_type": "code",
   "execution_count": 46,
   "id": "eae925ee",
   "metadata": {},
   "outputs": [
    {
     "name": "stdout",
     "output_type": "stream",
     "text": [
      "<table border=\"0\" cellpadding=\"0\" cellspacing=\"0\" class=\"year\">\n",
      "<tr><th colspan=\"3\" class=\"year\">2021</th></tr><tr><td><table border=\"0\" cellpadding=\"0\" cellspacing=\"0\" class=\"month\">\n",
      "<tr><th colspan=\"7\" class=\"month\">January</th></tr>\n",
      "<tr><th class=\"mon\">Mon</th><th class=\"tue\">Tue</th><th class=\"wed\">Wed</th><th class=\"thu\">Thu</th><th class=\"fri\">Fri</th><th class=\"sat\">Sat</th><th class=\"sun\">Sun</th></tr>\n",
      "<tr><td class=\"noday\">&nbsp;</td><td class=\"noday\">&nbsp;</td><td class=\"noday\">&nbsp;</td><td class=\"noday\">&nbsp;</td><td class=\"fri\">1</td><td class=\"sat\">2</td><td class=\"sun\">3</td></tr>\n",
      "<tr><td class=\"mon\">4</td><td class=\"tue\">5</td><td class=\"wed\">6</td><td class=\"thu\">7</td><td class=\"fri\">8</td><td class=\"sat\">9</td><td class=\"sun\">10</td></tr>\n",
      "<tr><td class=\"mon\">11</td><td class=\"tue\">12</td><td class=\"wed\">13</td><td class=\"thu\">14</td><td class=\"fri\">15</td><td class=\"sat\">16</td><td class=\"sun\">17</td></tr>\n",
      "<tr><td class=\"mon\">18</td><td class=\"tue\">19</td><td class=\"wed\">20</td><td class=\"thu\">21</td><td class=\"fri\">22</td><td class=\"sat\">23</td><td class=\"sun\">24</td></tr>\n",
      "<tr><td class=\"mon\">25</td><td class=\"tue\">26</td><td class=\"wed\">27</td><td class=\"thu\">28</td><td class=\"fri\">29</td><td class=\"sat\">30</td><td class=\"sun\">31</td></tr>\n",
      "</table>\n",
      "</td><td><table border=\"0\" cellpadding=\"0\" cellspacing=\"0\" class=\"month\">\n",
      "<tr><th colspan=\"7\" class=\"month\">February</th></tr>\n",
      "<tr><th class=\"mon\">Mon</th><th class=\"tue\">Tue</th><th class=\"wed\">Wed</th><th class=\"thu\">Thu</th><th class=\"fri\">Fri</th><th class=\"sat\">Sat</th><th class=\"sun\">Sun</th></tr>\n",
      "<tr><td class=\"mon\">1</td><td class=\"tue\">2</td><td class=\"wed\">3</td><td class=\"thu\">4</td><td class=\"fri\">5</td><td class=\"sat\">6</td><td class=\"sun\">7</td></tr>\n",
      "<tr><td class=\"mon\">8</td><td class=\"tue\">9</td><td class=\"wed\">10</td><td class=\"thu\">11</td><td class=\"fri\">12</td><td class=\"sat\">13</td><td class=\"sun\">14</td></tr>\n",
      "<tr><td class=\"mon\">15</td><td class=\"tue\">16</td><td class=\"wed\">17</td><td class=\"thu\">18</td><td class=\"fri\">19</td><td class=\"sat\">20</td><td class=\"sun\">21</td></tr>\n",
      "<tr><td class=\"mon\">22</td><td class=\"tue\">23</td><td class=\"wed\">24</td><td class=\"thu\">25</td><td class=\"fri\">26</td><td class=\"sat\">27</td><td class=\"sun\">28</td></tr>\n",
      "</table>\n",
      "</td><td><table border=\"0\" cellpadding=\"0\" cellspacing=\"0\" class=\"month\">\n",
      "<tr><th colspan=\"7\" class=\"month\">March</th></tr>\n",
      "<tr><th class=\"mon\">Mon</th><th class=\"tue\">Tue</th><th class=\"wed\">Wed</th><th class=\"thu\">Thu</th><th class=\"fri\">Fri</th><th class=\"sat\">Sat</th><th class=\"sun\">Sun</th></tr>\n",
      "<tr><td class=\"mon\">1</td><td class=\"tue\">2</td><td class=\"wed\">3</td><td class=\"thu\">4</td><td class=\"fri\">5</td><td class=\"sat\">6</td><td class=\"sun\">7</td></tr>\n",
      "<tr><td class=\"mon\">8</td><td class=\"tue\">9</td><td class=\"wed\">10</td><td class=\"thu\">11</td><td class=\"fri\">12</td><td class=\"sat\">13</td><td class=\"sun\">14</td></tr>\n",
      "<tr><td class=\"mon\">15</td><td class=\"tue\">16</td><td class=\"wed\">17</td><td class=\"thu\">18</td><td class=\"fri\">19</td><td class=\"sat\">20</td><td class=\"sun\">21</td></tr>\n",
      "<tr><td class=\"mon\">22</td><td class=\"tue\">23</td><td class=\"wed\">24</td><td class=\"thu\">25</td><td class=\"fri\">26</td><td class=\"sat\">27</td><td class=\"sun\">28</td></tr>\n",
      "<tr><td class=\"mon\">29</td><td class=\"tue\">30</td><td class=\"wed\">31</td><td class=\"noday\">&nbsp;</td><td class=\"noday\">&nbsp;</td><td class=\"noday\">&nbsp;</td><td class=\"noday\">&nbsp;</td></tr>\n",
      "</table>\n",
      "</td></tr><tr><td><table border=\"0\" cellpadding=\"0\" cellspacing=\"0\" class=\"month\">\n",
      "<tr><th colspan=\"7\" class=\"month\">April</th></tr>\n",
      "<tr><th class=\"mon\">Mon</th><th class=\"tue\">Tue</th><th class=\"wed\">Wed</th><th class=\"thu\">Thu</th><th class=\"fri\">Fri</th><th class=\"sat\">Sat</th><th class=\"sun\">Sun</th></tr>\n",
      "<tr><td class=\"noday\">&nbsp;</td><td class=\"noday\">&nbsp;</td><td class=\"noday\">&nbsp;</td><td class=\"thu\">1</td><td class=\"fri\">2</td><td class=\"sat\">3</td><td class=\"sun\">4</td></tr>\n",
      "<tr><td class=\"mon\">5</td><td class=\"tue\">6</td><td class=\"wed\">7</td><td class=\"thu\">8</td><td class=\"fri\">9</td><td class=\"sat\">10</td><td class=\"sun\">11</td></tr>\n",
      "<tr><td class=\"mon\">12</td><td class=\"tue\">13</td><td class=\"wed\">14</td><td class=\"thu\">15</td><td class=\"fri\">16</td><td class=\"sat\">17</td><td class=\"sun\">18</td></tr>\n",
      "<tr><td class=\"mon\">19</td><td class=\"tue\">20</td><td class=\"wed\">21</td><td class=\"thu\">22</td><td class=\"fri\">23</td><td class=\"sat\">24</td><td class=\"sun\">25</td></tr>\n",
      "<tr><td class=\"mon\">26</td><td class=\"tue\">27</td><td class=\"wed\">28</td><td class=\"thu\">29</td><td class=\"fri\">30</td><td class=\"noday\">&nbsp;</td><td class=\"noday\">&nbsp;</td></tr>\n",
      "</table>\n",
      "</td><td><table border=\"0\" cellpadding=\"0\" cellspacing=\"0\" class=\"month\">\n",
      "<tr><th colspan=\"7\" class=\"month\">May</th></tr>\n",
      "<tr><th class=\"mon\">Mon</th><th class=\"tue\">Tue</th><th class=\"wed\">Wed</th><th class=\"thu\">Thu</th><th class=\"fri\">Fri</th><th class=\"sat\">Sat</th><th class=\"sun\">Sun</th></tr>\n",
      "<tr><td class=\"noday\">&nbsp;</td><td class=\"noday\">&nbsp;</td><td class=\"noday\">&nbsp;</td><td class=\"noday\">&nbsp;</td><td class=\"noday\">&nbsp;</td><td class=\"sat\">1</td><td class=\"sun\">2</td></tr>\n",
      "<tr><td class=\"mon\">3</td><td class=\"tue\">4</td><td class=\"wed\">5</td><td class=\"thu\">6</td><td class=\"fri\">7</td><td class=\"sat\">8</td><td class=\"sun\">9</td></tr>\n",
      "<tr><td class=\"mon\">10</td><td class=\"tue\">11</td><td class=\"wed\">12</td><td class=\"thu\">13</td><td class=\"fri\">14</td><td class=\"sat\">15</td><td class=\"sun\">16</td></tr>\n",
      "<tr><td class=\"mon\">17</td><td class=\"tue\">18</td><td class=\"wed\">19</td><td class=\"thu\">20</td><td class=\"fri\">21</td><td class=\"sat\">22</td><td class=\"sun\">23</td></tr>\n",
      "<tr><td class=\"mon\">24</td><td class=\"tue\">25</td><td class=\"wed\">26</td><td class=\"thu\">27</td><td class=\"fri\">28</td><td class=\"sat\">29</td><td class=\"sun\">30</td></tr>\n",
      "<tr><td class=\"mon\">31</td><td class=\"noday\">&nbsp;</td><td class=\"noday\">&nbsp;</td><td class=\"noday\">&nbsp;</td><td class=\"noday\">&nbsp;</td><td class=\"noday\">&nbsp;</td><td class=\"noday\">&nbsp;</td></tr>\n",
      "</table>\n",
      "</td><td><table border=\"0\" cellpadding=\"0\" cellspacing=\"0\" class=\"month\">\n",
      "<tr><th colspan=\"7\" class=\"month\">June</th></tr>\n",
      "<tr><th class=\"mon\">Mon</th><th class=\"tue\">Tue</th><th class=\"wed\">Wed</th><th class=\"thu\">Thu</th><th class=\"fri\">Fri</th><th class=\"sat\">Sat</th><th class=\"sun\">Sun</th></tr>\n",
      "<tr><td class=\"noday\">&nbsp;</td><td class=\"tue\">1</td><td class=\"wed\">2</td><td class=\"thu\">3</td><td class=\"fri\">4</td><td class=\"sat\">5</td><td class=\"sun\">6</td></tr>\n",
      "<tr><td class=\"mon\">7</td><td class=\"tue\">8</td><td class=\"wed\">9</td><td class=\"thu\">10</td><td class=\"fri\">11</td><td class=\"sat\">12</td><td class=\"sun\">13</td></tr>\n",
      "<tr><td class=\"mon\">14</td><td class=\"tue\">15</td><td class=\"wed\">16</td><td class=\"thu\">17</td><td class=\"fri\">18</td><td class=\"sat\">19</td><td class=\"sun\">20</td></tr>\n",
      "<tr><td class=\"mon\">21</td><td class=\"tue\">22</td><td class=\"wed\">23</td><td class=\"thu\">24</td><td class=\"fri\">25</td><td class=\"sat\">26</td><td class=\"sun\">27</td></tr>\n",
      "<tr><td class=\"mon\">28</td><td class=\"tue\">29</td><td class=\"wed\">30</td><td class=\"noday\">&nbsp;</td><td class=\"noday\">&nbsp;</td><td class=\"noday\">&nbsp;</td><td class=\"noday\">&nbsp;</td></tr>\n",
      "</table>\n",
      "</td></tr><tr><td><table border=\"0\" cellpadding=\"0\" cellspacing=\"0\" class=\"month\">\n",
      "<tr><th colspan=\"7\" class=\"month\">July</th></tr>\n",
      "<tr><th class=\"mon\">Mon</th><th class=\"tue\">Tue</th><th class=\"wed\">Wed</th><th class=\"thu\">Thu</th><th class=\"fri\">Fri</th><th class=\"sat\">Sat</th><th class=\"sun\">Sun</th></tr>\n",
      "<tr><td class=\"noday\">&nbsp;</td><td class=\"noday\">&nbsp;</td><td class=\"noday\">&nbsp;</td><td class=\"thu\">1</td><td class=\"fri\">2</td><td class=\"sat\">3</td><td class=\"sun\">4</td></tr>\n",
      "<tr><td class=\"mon\">5</td><td class=\"tue\">6</td><td class=\"wed\">7</td><td class=\"thu\">8</td><td class=\"fri\">9</td><td class=\"sat\">10</td><td class=\"sun\">11</td></tr>\n",
      "<tr><td class=\"mon\">12</td><td class=\"tue\">13</td><td class=\"wed\">14</td><td class=\"thu\">15</td><td class=\"fri\">16</td><td class=\"sat\">17</td><td class=\"sun\">18</td></tr>\n",
      "<tr><td class=\"mon\">19</td><td class=\"tue\">20</td><td class=\"wed\">21</td><td class=\"thu\">22</td><td class=\"fri\">23</td><td class=\"sat\">24</td><td class=\"sun\">25</td></tr>\n",
      "<tr><td class=\"mon\">26</td><td class=\"tue\">27</td><td class=\"wed\">28</td><td class=\"thu\">29</td><td class=\"fri\">30</td><td class=\"sat\">31</td><td class=\"noday\">&nbsp;</td></tr>\n",
      "</table>\n",
      "</td><td><table border=\"0\" cellpadding=\"0\" cellspacing=\"0\" class=\"month\">\n",
      "<tr><th colspan=\"7\" class=\"month\">August</th></tr>\n",
      "<tr><th class=\"mon\">Mon</th><th class=\"tue\">Tue</th><th class=\"wed\">Wed</th><th class=\"thu\">Thu</th><th class=\"fri\">Fri</th><th class=\"sat\">Sat</th><th class=\"sun\">Sun</th></tr>\n",
      "<tr><td class=\"noday\">&nbsp;</td><td class=\"noday\">&nbsp;</td><td class=\"noday\">&nbsp;</td><td class=\"noday\">&nbsp;</td><td class=\"noday\">&nbsp;</td><td class=\"noday\">&nbsp;</td><td class=\"sun\">1</td></tr>\n",
      "<tr><td class=\"mon\">2</td><td class=\"tue\">3</td><td class=\"wed\">4</td><td class=\"thu\">5</td><td class=\"fri\">6</td><td class=\"sat\">7</td><td class=\"sun\">8</td></tr>\n",
      "<tr><td class=\"mon\">9</td><td class=\"tue\">10</td><td class=\"wed\">11</td><td class=\"thu\">12</td><td class=\"fri\">13</td><td class=\"sat\">14</td><td class=\"sun\">15</td></tr>\n",
      "<tr><td class=\"mon\">16</td><td class=\"tue\">17</td><td class=\"wed\">18</td><td class=\"thu\">19</td><td class=\"fri\">20</td><td class=\"sat\">21</td><td class=\"sun\">22</td></tr>\n",
      "<tr><td class=\"mon\">23</td><td class=\"tue\">24</td><td class=\"wed\">25</td><td class=\"thu\">26</td><td class=\"fri\">27</td><td class=\"sat\">28</td><td class=\"sun\">29</td></tr>\n",
      "<tr><td class=\"mon\">30</td><td class=\"tue\">31</td><td class=\"noday\">&nbsp;</td><td class=\"noday\">&nbsp;</td><td class=\"noday\">&nbsp;</td><td class=\"noday\">&nbsp;</td><td class=\"noday\">&nbsp;</td></tr>\n",
      "</table>\n",
      "</td><td><table border=\"0\" cellpadding=\"0\" cellspacing=\"0\" class=\"month\">\n",
      "<tr><th colspan=\"7\" class=\"month\">September</th></tr>\n",
      "<tr><th class=\"mon\">Mon</th><th class=\"tue\">Tue</th><th class=\"wed\">Wed</th><th class=\"thu\">Thu</th><th class=\"fri\">Fri</th><th class=\"sat\">Sat</th><th class=\"sun\">Sun</th></tr>\n",
      "<tr><td class=\"noday\">&nbsp;</td><td class=\"noday\">&nbsp;</td><td class=\"wed\">1</td><td class=\"thu\">2</td><td class=\"fri\">3</td><td class=\"sat\">4</td><td class=\"sun\">5</td></tr>\n",
      "<tr><td class=\"mon\">6</td><td class=\"tue\">7</td><td class=\"wed\">8</td><td class=\"thu\">9</td><td class=\"fri\">10</td><td class=\"sat\">11</td><td class=\"sun\">12</td></tr>\n",
      "<tr><td class=\"mon\">13</td><td class=\"tue\">14</td><td class=\"wed\">15</td><td class=\"thu\">16</td><td class=\"fri\">17</td><td class=\"sat\">18</td><td class=\"sun\">19</td></tr>\n",
      "<tr><td class=\"mon\">20</td><td class=\"tue\">21</td><td class=\"wed\">22</td><td class=\"thu\">23</td><td class=\"fri\">24</td><td class=\"sat\">25</td><td class=\"sun\">26</td></tr>\n",
      "<tr><td class=\"mon\">27</td><td class=\"tue\">28</td><td class=\"wed\">29</td><td class=\"thu\">30</td><td class=\"noday\">&nbsp;</td><td class=\"noday\">&nbsp;</td><td class=\"noday\">&nbsp;</td></tr>\n",
      "</table>\n",
      "</td></tr><tr><td><table border=\"0\" cellpadding=\"0\" cellspacing=\"0\" class=\"month\">\n",
      "<tr><th colspan=\"7\" class=\"month\">October</th></tr>\n",
      "<tr><th class=\"mon\">Mon</th><th class=\"tue\">Tue</th><th class=\"wed\">Wed</th><th class=\"thu\">Thu</th><th class=\"fri\">Fri</th><th class=\"sat\">Sat</th><th class=\"sun\">Sun</th></tr>\n",
      "<tr><td class=\"noday\">&nbsp;</td><td class=\"noday\">&nbsp;</td><td class=\"noday\">&nbsp;</td><td class=\"noday\">&nbsp;</td><td class=\"fri\">1</td><td class=\"sat\">2</td><td class=\"sun\">3</td></tr>\n",
      "<tr><td class=\"mon\">4</td><td class=\"tue\">5</td><td class=\"wed\">6</td><td class=\"thu\">7</td><td class=\"fri\">8</td><td class=\"sat\">9</td><td class=\"sun\">10</td></tr>\n",
      "<tr><td class=\"mon\">11</td><td class=\"tue\">12</td><td class=\"wed\">13</td><td class=\"thu\">14</td><td class=\"fri\">15</td><td class=\"sat\">16</td><td class=\"sun\">17</td></tr>\n",
      "<tr><td class=\"mon\">18</td><td class=\"tue\">19</td><td class=\"wed\">20</td><td class=\"thu\">21</td><td class=\"fri\">22</td><td class=\"sat\">23</td><td class=\"sun\">24</td></tr>\n",
      "<tr><td class=\"mon\">25</td><td class=\"tue\">26</td><td class=\"wed\">27</td><td class=\"thu\">28</td><td class=\"fri\">29</td><td class=\"sat\">30</td><td class=\"sun\">31</td></tr>\n",
      "</table>\n",
      "</td><td><table border=\"0\" cellpadding=\"0\" cellspacing=\"0\" class=\"month\">\n",
      "<tr><th colspan=\"7\" class=\"month\">November</th></tr>\n",
      "<tr><th class=\"mon\">Mon</th><th class=\"tue\">Tue</th><th class=\"wed\">Wed</th><th class=\"thu\">Thu</th><th class=\"fri\">Fri</th><th class=\"sat\">Sat</th><th class=\"sun\">Sun</th></tr>\n",
      "<tr><td class=\"mon\">1</td><td class=\"tue\">2</td><td class=\"wed\">3</td><td class=\"thu\">4</td><td class=\"fri\">5</td><td class=\"sat\">6</td><td class=\"sun\">7</td></tr>\n",
      "<tr><td class=\"mon\">8</td><td class=\"tue\">9</td><td class=\"wed\">10</td><td class=\"thu\">11</td><td class=\"fri\">12</td><td class=\"sat\">13</td><td class=\"sun\">14</td></tr>\n",
      "<tr><td class=\"mon\">15</td><td class=\"tue\">16</td><td class=\"wed\">17</td><td class=\"thu\">18</td><td class=\"fri\">19</td><td class=\"sat\">20</td><td class=\"sun\">21</td></tr>\n",
      "<tr><td class=\"mon\">22</td><td class=\"tue\">23</td><td class=\"wed\">24</td><td class=\"thu\">25</td><td class=\"fri\">26</td><td class=\"sat\">27</td><td class=\"sun\">28</td></tr>\n",
      "<tr><td class=\"mon\">29</td><td class=\"tue\">30</td><td class=\"noday\">&nbsp;</td><td class=\"noday\">&nbsp;</td><td class=\"noday\">&nbsp;</td><td class=\"noday\">&nbsp;</td><td class=\"noday\">&nbsp;</td></tr>\n",
      "</table>\n",
      "</td><td><table border=\"0\" cellpadding=\"0\" cellspacing=\"0\" class=\"month\">\n",
      "<tr><th colspan=\"7\" class=\"month\">December</th></tr>\n",
      "<tr><th class=\"mon\">Mon</th><th class=\"tue\">Tue</th><th class=\"wed\">Wed</th><th class=\"thu\">Thu</th><th class=\"fri\">Fri</th><th class=\"sat\">Sat</th><th class=\"sun\">Sun</th></tr>\n",
      "<tr><td class=\"noday\">&nbsp;</td><td class=\"noday\">&nbsp;</td><td class=\"wed\">1</td><td class=\"thu\">2</td><td class=\"fri\">3</td><td class=\"sat\">4</td><td class=\"sun\">5</td></tr>\n",
      "<tr><td class=\"mon\">6</td><td class=\"tue\">7</td><td class=\"wed\">8</td><td class=\"thu\">9</td><td class=\"fri\">10</td><td class=\"sat\">11</td><td class=\"sun\">12</td></tr>\n",
      "<tr><td class=\"mon\">13</td><td class=\"tue\">14</td><td class=\"wed\">15</td><td class=\"thu\">16</td><td class=\"fri\">17</td><td class=\"sat\">18</td><td class=\"sun\">19</td></tr>\n",
      "<tr><td class=\"mon\">20</td><td class=\"tue\">21</td><td class=\"wed\">22</td><td class=\"thu\">23</td><td class=\"fri\">24</td><td class=\"sat\">25</td><td class=\"sun\">26</td></tr>\n",
      "<tr><td class=\"mon\">27</td><td class=\"tue\">28</td><td class=\"wed\">29</td><td class=\"thu\">30</td><td class=\"fri\">31</td><td class=\"noday\">&nbsp;</td><td class=\"noday\">&nbsp;</td></tr>\n",
      "</table>\n",
      "</td></tr></table>\n"
     ]
    }
   ],
   "source": [
    "print(html_cal.formatyear(2021))"
   ]
  },
  {
   "cell_type": "code",
   "execution_count": 47,
   "id": "15b93782",
   "metadata": {},
   "outputs": [
    {
     "name": "stdout",
     "output_type": "stream",
     "text": [
      "<th class=\"fri\">Fri</th>\n"
     ]
    }
   ],
   "source": [
    "print(html_cal.formatweekday(4))"
   ]
  },
  {
   "cell_type": "code",
   "execution_count": null,
   "id": "636a376e",
   "metadata": {},
   "outputs": [],
   "source": []
  }
 ],
 "metadata": {
  "kernelspec": {
   "display_name": "Python 3",
   "language": "python",
   "name": "python3"
  },
  "language_info": {
   "codemirror_mode": {
    "name": "ipython",
    "version": 3
   },
   "file_extension": ".py",
   "mimetype": "text/x-python",
   "name": "python",
   "nbconvert_exporter": "python",
   "pygments_lexer": "ipython3",
   "version": "3.8.8"
  }
 },
 "nbformat": 4,
 "nbformat_minor": 5
}
